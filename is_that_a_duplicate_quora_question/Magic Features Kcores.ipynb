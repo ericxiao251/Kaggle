{
 "cells": [
  {
   "cell_type": "code",
   "execution_count": 24,
   "metadata": {
    "collapsed": true
   },
   "outputs": [],
   "source": [
    "import numpy as np # linear algebra\n",
    "import pandas as pd # data processing, CSV file I/O (e.g. pd.read_csv)\n",
    "from collections import defaultdict\n",
    "\n",
    "import networkx as nx"
   ]
  },
  {
   "cell_type": "code",
   "execution_count": 38,
   "metadata": {
    "collapsed": true
   },
   "outputs": [],
   "source": [
    "DATA_PATH = \"data/\"\n",
    "\n",
    "train_orig =  pd.read_csv(DATA_PATH + 'train.csv', header=0)\n",
    "test_orig =  pd.read_csv(DATA_PATH + 'test.csv', header=0)"
   ]
  },
  {
   "cell_type": "code",
   "execution_count": 39,
   "metadata": {},
   "outputs": [
    {
     "name": "stdout",
     "output_type": "stream",
     "text": [
      "(290654, 2) (299364, 2)\n",
      "(290654, 2) (299364, 2) (537933, 2)\n"
     ]
    }
   ],
   "source": [
    "# \"id\",\"qid1\",\"qid2\",\"question1\",\"question2\",\"is_duplicate\"\n",
    "df_id1 = train_orig[[\"qid1\", \"question1\"]].drop_duplicates(keep=\"first\").copy().reset_index(drop=True)\n",
    "df_id2 = train_orig[[\"qid2\", \"question2\"]].drop_duplicates(keep=\"first\").copy().reset_index(drop=True)\n",
    "\n",
    "df_id1.columns = [\"qid\", \"question\"]\n",
    "df_id2.columns = [\"qid\", \"question\"]\n",
    "\n",
    "print(df_id1.shape, df_id2.shape)\n",
    "\n",
    "df_id = pd.concat([df_id1, df_id2]).drop_duplicates(keep=\"first\").reset_index(drop=True)\n",
    "print(df_id1.shape, df_id2.shape, df_id.shape)"
   ]
  },
  {
   "cell_type": "code",
   "execution_count": 40,
   "metadata": {},
   "outputs": [
    {
     "name": "stdout",
     "output_type": "stream",
     "text": [
      "['test_id', 'question1', 'question2', 'qid1', 'qid2']\n"
     ]
    }
   ],
   "source": [
    "import csv\n",
    "dict_questions = df_id.set_index('question').to_dict()\n",
    "dict_questions = dict_questions[\"qid\"]\n",
    "\n",
    "new_id = 538000 # df_id[\"qid\"].max() ==> 537933\n",
    "\n",
    "def get_id(question):\n",
    "    global dict_questions \n",
    "    global new_id \n",
    "    \n",
    "    if question in dict_questions:\n",
    "        return dict_questions[question]\n",
    "    else:\n",
    "        new_id += 1\n",
    "        dict_questions[question] = new_id\n",
    "        return new_id\n",
    "    \n",
    "rows = []\n",
    "max_lines = 10\n",
    "if True:\n",
    "    with open('data/test.csv', 'r', encoding=\"utf8\") as infile:\n",
    "        reader = csv.reader(infile, delimiter=\",\")\n",
    "        header = next(reader)\n",
    "        header.append('qid1')\n",
    "        header.append('qid2')\n",
    "        \n",
    "        if True:\n",
    "            print(header)\n",
    "            pos, max_lines = 0, 10*1000*1000\n",
    "            for row in reader:\n",
    "                # \"test_id\",\"question1\",\"question2\"\n",
    "                question1 = row[1]\n",
    "                question2 = row[2]\n",
    "\n",
    "                qid1 = get_id(question1)\n",
    "                qid2 = get_id(question2)\n",
    "                row.append(qid1)\n",
    "                row.append(qid2)\n",
    "\n",
    "                pos += 1\n",
    "                if pos >= max_lines:\n",
    "                    break\n",
    "                rows.append(row)"
   ]
  },
  {
   "cell_type": "code",
   "execution_count": 41,
   "metadata": {},
   "outputs": [],
   "source": [
    "test_orig = pd.DataFrame(rows, columns=['test_id', 'question1', 'question2', 'qid1', 'qid2'])"
   ]
  },
  {
   "cell_type": "code",
   "execution_count": 54,
   "metadata": {},
   "outputs": [],
   "source": [
    "test_orig.to_csv('data/questions_with_id/test_questions_with_id.csv')\n",
    "train_orig.to_csv('data/questions_with_id/train_questions_with_id.csv')"
   ]
  },
  {
   "cell_type": "code",
   "execution_count": 43,
   "metadata": {},
   "outputs": [
    {
     "data": {
      "text/html": [
       "<div>\n",
       "<style>\n",
       "    .dataframe thead tr:only-child th {\n",
       "        text-align: right;\n",
       "    }\n",
       "\n",
       "    .dataframe thead th {\n",
       "        text-align: left;\n",
       "    }\n",
       "\n",
       "    .dataframe tbody tr th {\n",
       "        vertical-align: top;\n",
       "    }\n",
       "</style>\n",
       "<table border=\"1\" class=\"dataframe\">\n",
       "  <thead>\n",
       "    <tr style=\"text-align: right;\">\n",
       "      <th></th>\n",
       "      <th>id</th>\n",
       "      <th>qid1</th>\n",
       "      <th>qid2</th>\n",
       "      <th>question1</th>\n",
       "      <th>question2</th>\n",
       "      <th>is_duplicate</th>\n",
       "    </tr>\n",
       "  </thead>\n",
       "  <tbody>\n",
       "    <tr>\n",
       "      <th>0</th>\n",
       "      <td>0</td>\n",
       "      <td>1</td>\n",
       "      <td>2</td>\n",
       "      <td>What is the step by step guide to invest in sh...</td>\n",
       "      <td>What is the step by step guide to invest in sh...</td>\n",
       "      <td>0</td>\n",
       "    </tr>\n",
       "    <tr>\n",
       "      <th>1</th>\n",
       "      <td>1</td>\n",
       "      <td>3</td>\n",
       "      <td>4</td>\n",
       "      <td>What is the story of Kohinoor (Koh-i-Noor) Dia...</td>\n",
       "      <td>What would happen if the Indian government sto...</td>\n",
       "      <td>0</td>\n",
       "    </tr>\n",
       "    <tr>\n",
       "      <th>2</th>\n",
       "      <td>2</td>\n",
       "      <td>5</td>\n",
       "      <td>6</td>\n",
       "      <td>How can I increase the speed of my internet co...</td>\n",
       "      <td>How can Internet speed be increased by hacking...</td>\n",
       "      <td>0</td>\n",
       "    </tr>\n",
       "    <tr>\n",
       "      <th>3</th>\n",
       "      <td>3</td>\n",
       "      <td>7</td>\n",
       "      <td>8</td>\n",
       "      <td>Why am I mentally very lonely? How can I solve...</td>\n",
       "      <td>Find the remainder when [math]23^{24}[/math] i...</td>\n",
       "      <td>0</td>\n",
       "    </tr>\n",
       "    <tr>\n",
       "      <th>4</th>\n",
       "      <td>4</td>\n",
       "      <td>9</td>\n",
       "      <td>10</td>\n",
       "      <td>Which one dissolve in water quikly sugar, salt...</td>\n",
       "      <td>Which fish would survive in salt water?</td>\n",
       "      <td>0</td>\n",
       "    </tr>\n",
       "  </tbody>\n",
       "</table>\n",
       "</div>"
      ],
      "text/plain": [
       "   id  qid1  qid2                                          question1  \\\n",
       "0   0     1     2  What is the step by step guide to invest in sh...   \n",
       "1   1     3     4  What is the story of Kohinoor (Koh-i-Noor) Dia...   \n",
       "2   2     5     6  How can I increase the speed of my internet co...   \n",
       "3   3     7     8  Why am I mentally very lonely? How can I solve...   \n",
       "4   4     9    10  Which one dissolve in water quikly sugar, salt...   \n",
       "\n",
       "                                           question2  is_duplicate  \n",
       "0  What is the step by step guide to invest in sh...             0  \n",
       "1  What would happen if the Indian government sto...             0  \n",
       "2  How can Internet speed be increased by hacking...             0  \n",
       "3  Find the remainder when [math]23^{24}[/math] i...             0  \n",
       "4            Which fish would survive in salt water?             0  "
      ]
     },
     "execution_count": 43,
     "metadata": {},
     "output_type": "execute_result"
    }
   ],
   "source": [
    "train_orig.head()"
   ]
  },
  {
   "cell_type": "code",
   "execution_count": 44,
   "metadata": {},
   "outputs": [
    {
     "data": {
      "text/html": [
       "<div>\n",
       "<style>\n",
       "    .dataframe thead tr:only-child th {\n",
       "        text-align: right;\n",
       "    }\n",
       "\n",
       "    .dataframe thead th {\n",
       "        text-align: left;\n",
       "    }\n",
       "\n",
       "    .dataframe tbody tr th {\n",
       "        vertical-align: top;\n",
       "    }\n",
       "</style>\n",
       "<table border=\"1\" class=\"dataframe\">\n",
       "  <thead>\n",
       "    <tr style=\"text-align: right;\">\n",
       "      <th></th>\n",
       "      <th>test_id</th>\n",
       "      <th>question1</th>\n",
       "      <th>question2</th>\n",
       "      <th>qid1</th>\n",
       "      <th>qid2</th>\n",
       "    </tr>\n",
       "  </thead>\n",
       "  <tbody>\n",
       "    <tr>\n",
       "      <th>0</th>\n",
       "      <td>0</td>\n",
       "      <td>How does the Surface Pro himself 4 compare wit...</td>\n",
       "      <td>Why did Microsoft choose core m3 and not core ...</td>\n",
       "      <td>538001</td>\n",
       "      <td>538002</td>\n",
       "    </tr>\n",
       "    <tr>\n",
       "      <th>1</th>\n",
       "      <td>1</td>\n",
       "      <td>Should I have a hair transplant at age 24? How...</td>\n",
       "      <td>How much cost does hair transplant require?</td>\n",
       "      <td>538003</td>\n",
       "      <td>538004</td>\n",
       "    </tr>\n",
       "    <tr>\n",
       "      <th>2</th>\n",
       "      <td>2</td>\n",
       "      <td>What but is the best way to send money from Ch...</td>\n",
       "      <td>What you send money to China?</td>\n",
       "      <td>538005</td>\n",
       "      <td>538006</td>\n",
       "    </tr>\n",
       "    <tr>\n",
       "      <th>3</th>\n",
       "      <td>3</td>\n",
       "      <td>Which food not emulsifiers?</td>\n",
       "      <td>What foods fibre?</td>\n",
       "      <td>538007</td>\n",
       "      <td>538008</td>\n",
       "    </tr>\n",
       "    <tr>\n",
       "      <th>4</th>\n",
       "      <td>4</td>\n",
       "      <td>How \"aberystwyth\" start reading?</td>\n",
       "      <td>How their can I start reading?</td>\n",
       "      <td>538009</td>\n",
       "      <td>538010</td>\n",
       "    </tr>\n",
       "  </tbody>\n",
       "</table>\n",
       "</div>"
      ],
      "text/plain": [
       "  test_id                                          question1  \\\n",
       "0       0  How does the Surface Pro himself 4 compare wit...   \n",
       "1       1  Should I have a hair transplant at age 24? How...   \n",
       "2       2  What but is the best way to send money from Ch...   \n",
       "3       3                        Which food not emulsifiers?   \n",
       "4       4                   How \"aberystwyth\" start reading?   \n",
       "\n",
       "                                           question2    qid1    qid2  \n",
       "0  Why did Microsoft choose core m3 and not core ...  538001  538002  \n",
       "1        How much cost does hair transplant require?  538003  538004  \n",
       "2                      What you send money to China?  538005  538006  \n",
       "3                                  What foods fibre?  538007  538008  \n",
       "4                     How their can I start reading?  538009  538010  "
      ]
     },
     "execution_count": 44,
     "metadata": {},
     "output_type": "execute_result"
    }
   ],
   "source": [
    "test_orig.head()"
   ]
  },
  {
   "cell_type": "code",
   "execution_count": 47,
   "metadata": {},
   "outputs": [
    {
     "name": "stdout",
     "output_type": "stream",
     "text": [
      "df_all.shape: (2750086, 2)\n",
      "2454493 4789604\n",
      "2750086 2743365\n",
      "df_output.shape: (4789604, 1)\n",
      "fieldname =  kcore2\n",
      "len(ck) =  104340\n"
     ]
    },
    {
     "name": "stderr",
     "output_type": "stream",
     "text": [
      "/usr/local/lib/python3.6/site-packages/ipykernel_launcher.py:43: DeprecationWarning: \n",
      ".ix is deprecated. Please use\n",
      ".loc for label based indexing or\n",
      ".iloc for positional indexing\n",
      "\n",
      "See the documentation here:\n",
      "http://pandas.pydata.org/pandas-docs/stable/indexing.html#deprecate_ix\n"
     ]
    },
    {
     "name": "stdout",
     "output_type": "stream",
     "text": [
      "fieldname =  kcore3\n",
      "len(ck) =  37019\n",
      "fieldname =  kcore4\n",
      "len(ck) =  20580\n",
      "fieldname =  kcore5\n",
      "len(ck) =  13552\n",
      "fieldname =  kcore6\n",
      "len(ck) =  9949\n",
      "fieldname =  kcore7\n",
      "len(ck) =  7674\n",
      "fieldname =  kcore8\n",
      "len(ck) =  6156\n",
      "fieldname =  kcore9\n",
      "len(ck) =  5124\n",
      "fieldname =  kcore10\n",
      "len(ck) =  4190\n",
      "fieldname =  kcore11\n",
      "len(ck) =  3606\n",
      "fieldname =  kcore12\n",
      "len(ck) =  2979\n",
      "fieldname =  kcore13\n",
      "len(ck) =  2529\n",
      "fieldname =  kcore14\n",
      "len(ck) =  2167\n",
      "fieldname =  kcore15\n",
      "len(ck) =  1807\n",
      "fieldname =  kcore16\n",
      "len(ck) =  1633\n",
      "fieldname =  kcore17\n",
      "len(ck) =  1523\n",
      "fieldname =  kcore18\n",
      "len(ck) =  1270\n",
      "fieldname =  kcore19\n",
      "len(ck) =  1125\n",
      "fieldname =  kcore20\n",
      "len(ck) =  1024\n"
     ]
    }
   ],
   "source": [
    "df_train = pd.read_csv(\"data/questions_with_id/test_questions_with_id.csv\", usecols=[\"qid1\", \"qid2\"])\n",
    "\n",
    "df_test = pd.read_csv(\"data/questions_with_id/train_questions_with_id.csv\", usecols=[\"qid1\", \"qid2\"])\n",
    "\n",
    "df_all = pd.concat([df_train, df_test])\n",
    "\n",
    "print(\"df_all.shape:\", df_all.shape) # df_all.shape: (2750086, 2)\n",
    "\n",
    "df = df_all\n",
    "\n",
    "g = nx.Graph()\n",
    "\n",
    "g.add_nodes_from(df.qid1)\n",
    "\n",
    "edges = list(df[['qid1', 'qid2']].to_records(index=False))\n",
    "\n",
    "g.add_edges_from(edges)\n",
    "\n",
    "g.remove_edges_from(g.selfloop_edges())\n",
    "\n",
    "print(len(set(df.qid1)), g.number_of_nodes()) # 4789604\n",
    "\n",
    "print(len(df), g.number_of_edges()) # 2743365 (after self-edges)\n",
    "\n",
    "df_output = pd.DataFrame(data=g.nodes(), columns=[\"qid\"])\n",
    "\n",
    "print(\"df_output.shape:\", df_output.shape)\n",
    "\n",
    "NB_CORES = 20\n",
    "\n",
    "for k in range(2, NB_CORES + 1):\n",
    "\n",
    "    fieldname = \"kcore{}\".format(k)\n",
    "\n",
    "    print(\"fieldname = \", fieldname)\n",
    "\n",
    "    ck = nx.k_core(g, k=k).nodes()\n",
    "\n",
    "    print(\"len(ck) = \", len(ck))\n",
    "\n",
    "    df_output[fieldname] = 0\n",
    "\n",
    "    df_output.ix[df_output.qid.isin(ck), fieldname] = k\n",
    "\n",
    "df_output.to_csv(\"data/kcores/question_kcores.csv\", index=None)"
   ]
  },
  {
   "cell_type": "code",
   "execution_count": 48,
   "metadata": {},
   "outputs": [
    {
     "name": "stderr",
     "output_type": "stream",
     "text": [
      "/usr/local/lib/python3.6/site-packages/numpy/lib/arraysetops.py:395: FutureWarning: elementwise comparison failed; returning scalar instead, but in the future will perform elementwise comparison\n",
      "  mask |= (ar1 == a)\n"
     ]
    }
   ],
   "source": [
    "df_cores = pd.read_csv(\"data/kcores/question_kcores.csv\", index_col=\"qid\")\n",
    "\n",
    "df_cores.index.names = [\"qid\"]\n",
    "\n",
    "df_cores['max_kcore'] = df_cores.apply(lambda row: max(row), axis=1)\n",
    "\n",
    "df_cores[['max_kcore']].to_csv(\"question_max_kcores.csv\") # with index"
   ]
  },
  {
   "cell_type": "code",
   "execution_count": 56,
   "metadata": {},
   "outputs": [
    {
     "name": "stderr",
     "output_type": "stream",
     "text": [
      "/usr/local/lib/python3.6/site-packages/numpy/lib/arraysetops.py:395: FutureWarning: elementwise comparison failed; returning scalar instead, but in the future will perform elementwise comparison\n",
      "  mask |= (ar1 == a)\n"
     ]
    }
   ],
   "source": [
    "cores_dict = pd.read_csv(\"data/kcores/question_max_kcores.csv\", index_col=\"qid\").to_dict()[\"max_kcore\"]\n",
    "df_train = pd.read_csv('data/questions_with_id/train_questions_with_id.csv')\n",
    "df_test = pd.read_csv('data/questions_with_id/test_questions_with_id.csv')\n",
    "\n",
    "def gen_qid1_max_kcore(row):\n",
    "    return cores_dict[row[\"qid1\"]]\n",
    "def gen_qid2_max_kcore(row):\n",
    "    return cores_dict[row[\"qid2\"]]\n",
    "\n",
    "#def gen_max_kcore(row):\n",
    "#    return max(row[\"qid1_max_kcore\"], row[\"qid2_max_kcore\"])\n",
    "\n",
    "df_train[\"qid1_max_kcore\"] = df_train.apply(gen_qid1_max_kcore, axis=1)\n",
    "df_test[\"qid1_max_kcore\"] = df_test.apply(gen_qid1_max_kcore, axis=1)\n",
    "df_train[\"qid2_max_kcore\"] = df_train.apply(gen_qid2_max_kcore, axis=1)\n",
    "df_test[\"qid2_max_kcore\"] = df_test.apply(gen_qid2_max_kcore, axis=1)"
   ]
  },
  {
   "cell_type": "code",
   "execution_count": 57,
   "metadata": {},
   "outputs": [],
   "source": [
    "df_train.to_csv('data/kcores/train_max_cores.csv')\n",
    "df_test.to_csv('data/kcores/test_max_cores.csv')"
   ]
  }
 ],
 "metadata": {
  "kernelspec": {
   "display_name": "Python 3",
   "language": "python",
   "name": "python3"
  },
  "language_info": {
   "codemirror_mode": {
    "name": "ipython",
    "version": 3
   },
   "file_extension": ".py",
   "mimetype": "text/x-python",
   "name": "python",
   "nbconvert_exporter": "python",
   "pygments_lexer": "ipython3",
   "version": "3.6.1"
  }
 },
 "nbformat": 4,
 "nbformat_minor": 2
}
